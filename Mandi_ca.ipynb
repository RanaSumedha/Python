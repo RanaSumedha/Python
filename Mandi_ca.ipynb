{
 "cells": [
  {
   "cell_type": "markdown",
   "id": "4a949457-b368-4686-87c2-9ae0a82cba80",
   "metadata": {},
   "source": [
    "**1.Import and Explore the Dataset**\n"
   ]
  },
  {
   "cell_type": "code",
   "execution_count": 1,
   "id": "437eefcf-4757-4014-99cd-e72d9922e95f",
   "metadata": {},
   "outputs": [],
   "source": [
    "import pandas as pd\n",
    "df = pd.read_csv('mandi.csv')"
   ]
  },
  {
   "cell_type": "code",
   "execution_count": 2,
   "id": "bd82b0b7-ad0b-47d5-b870-d4ed67bd3242",
   "metadata": {
    "scrolled": true
   },
   "outputs": [
    {
     "data": {
      "text/html": [
       "<div>\n",
       "<style scoped>\n",
       "    .dataframe tbody tr th:only-of-type {\n",
       "        vertical-align: middle;\n",
       "    }\n",
       "\n",
       "    .dataframe tbody tr th {\n",
       "        vertical-align: top;\n",
       "    }\n",
       "\n",
       "    .dataframe thead th {\n",
       "        text-align: right;\n",
       "    }\n",
       "</style>\n",
       "<table border=\"1\" class=\"dataframe\">\n",
       "  <thead>\n",
       "    <tr style=\"text-align: right;\">\n",
       "      <th></th>\n",
       "      <th>State</th>\n",
       "      <th>District</th>\n",
       "      <th>Market</th>\n",
       "      <th>Commodity</th>\n",
       "      <th>Variety</th>\n",
       "      <th>Grade</th>\n",
       "      <th>Arrival_Date</th>\n",
       "      <th>Min_x0020_Price</th>\n",
       "      <th>Max_x0020_Price</th>\n",
       "      <th>Modal_x0020_Price</th>\n",
       "    </tr>\n",
       "  </thead>\n",
       "  <tbody>\n",
       "    <tr>\n",
       "      <th>0</th>\n",
       "      <td>Andhra Pradesh</td>\n",
       "      <td>East Godavari</td>\n",
       "      <td>Jaggampet</td>\n",
       "      <td>Paddy(Dhan)(Common)</td>\n",
       "      <td>Common</td>\n",
       "      <td>FAQ</td>\n",
       "      <td>06/04/2025</td>\n",
       "      <td>2300.00</td>\n",
       "      <td>2320.00</td>\n",
       "      <td>2320.00</td>\n",
       "    </tr>\n",
       "    <tr>\n",
       "      <th>1</th>\n",
       "      <td>Assam</td>\n",
       "      <td>Barpeta</td>\n",
       "      <td>Barpeta Road</td>\n",
       "      <td>Bottle gourd</td>\n",
       "      <td>Bottle Gourd</td>\n",
       "      <td>Local</td>\n",
       "      <td>06/04/2025</td>\n",
       "      <td>1133.39</td>\n",
       "      <td>1200.06</td>\n",
       "      <td>1200.06</td>\n",
       "    </tr>\n",
       "    <tr>\n",
       "      <th>2</th>\n",
       "      <td>Assam</td>\n",
       "      <td>Barpeta</td>\n",
       "      <td>Barpeta Road</td>\n",
       "      <td>Cabbage</td>\n",
       "      <td>Cabbage</td>\n",
       "      <td>Local</td>\n",
       "      <td>06/04/2025</td>\n",
       "      <td>300.00</td>\n",
       "      <td>400.00</td>\n",
       "      <td>400.00</td>\n",
       "    </tr>\n",
       "    <tr>\n",
       "      <th>3</th>\n",
       "      <td>Assam</td>\n",
       "      <td>Cachar</td>\n",
       "      <td>Sonabarighat</td>\n",
       "      <td>Cabbage</td>\n",
       "      <td>Cabbage</td>\n",
       "      <td>Local</td>\n",
       "      <td>06/04/2025</td>\n",
       "      <td>1500.00</td>\n",
       "      <td>1600.00</td>\n",
       "      <td>1500.00</td>\n",
       "    </tr>\n",
       "    <tr>\n",
       "      <th>4</th>\n",
       "      <td>Assam</td>\n",
       "      <td>Golaghat</td>\n",
       "      <td>Golaghat</td>\n",
       "      <td>Tomato</td>\n",
       "      <td>Tomato</td>\n",
       "      <td>Local</td>\n",
       "      <td>06/04/2025</td>\n",
       "      <td>1000.00</td>\n",
       "      <td>1300.00</td>\n",
       "      <td>1200.00</td>\n",
       "    </tr>\n",
       "  </tbody>\n",
       "</table>\n",
       "</div>"
      ],
      "text/plain": [
       "            State       District        Market            Commodity  \\\n",
       "0  Andhra Pradesh  East Godavari     Jaggampet  Paddy(Dhan)(Common)   \n",
       "1           Assam        Barpeta  Barpeta Road         Bottle gourd   \n",
       "2           Assam        Barpeta  Barpeta Road              Cabbage   \n",
       "3           Assam         Cachar  Sonabarighat              Cabbage   \n",
       "4           Assam       Golaghat      Golaghat               Tomato   \n",
       "\n",
       "        Variety  Grade Arrival_Date  Min_x0020_Price  Max_x0020_Price  \\\n",
       "0        Common    FAQ   06/04/2025          2300.00          2320.00   \n",
       "1  Bottle Gourd  Local   06/04/2025          1133.39          1200.06   \n",
       "2       Cabbage  Local   06/04/2025           300.00           400.00   \n",
       "3       Cabbage  Local   06/04/2025          1500.00          1600.00   \n",
       "4        Tomato  Local   06/04/2025          1000.00          1300.00   \n",
       "\n",
       "   Modal_x0020_Price  \n",
       "0            2320.00  \n",
       "1            1200.06  \n",
       "2             400.00  \n",
       "3            1500.00  \n",
       "4            1200.00  "
      ]
     },
     "execution_count": 2,
     "metadata": {},
     "output_type": "execute_result"
    }
   ],
   "source": [
    "df.head()"
   ]
  },
  {
   "cell_type": "code",
   "execution_count": 3,
   "id": "e373659c-ef2f-452d-9944-7083613f9236",
   "metadata": {},
   "outputs": [
    {
     "name": "stdout",
     "output_type": "stream",
     "text": [
      "<class 'pandas.core.frame.DataFrame'>\n",
      "RangeIndex: 7030 entries, 0 to 7029\n",
      "Data columns (total 10 columns):\n",
      " #   Column             Non-Null Count  Dtype  \n",
      "---  ------             --------------  -----  \n",
      " 0   State              7030 non-null   object \n",
      " 1   District           7030 non-null   object \n",
      " 2   Market             7030 non-null   object \n",
      " 3   Commodity          7030 non-null   object \n",
      " 4   Variety            7030 non-null   object \n",
      " 5   Grade              7030 non-null   object \n",
      " 6   Arrival_Date       7030 non-null   object \n",
      " 7   Min_x0020_Price    7030 non-null   float64\n",
      " 8   Max_x0020_Price    7030 non-null   float64\n",
      " 9   Modal_x0020_Price  7030 non-null   float64\n",
      "dtypes: float64(3), object(7)\n",
      "memory usage: 549.3+ KB\n"
     ]
    }
   ],
   "source": [
    "df.info()"
   ]
  },
  {
   "cell_type": "markdown",
   "id": "7e2468ba-2607-4dc2-b543-e9ba422d1304",
   "metadata": {},
   "source": [
    "**2.Clean and Preprocess the Data**"
   ]
  },
  {
   "cell_type": "code",
   "execution_count": 4,
   "id": "805192da-4b1c-40ce-92ab-d44b35f427ef",
   "metadata": {},
   "outputs": [],
   "source": [
    "df.dropna(inplace=True)"
   ]
  },
  {
   "cell_type": "code",
   "execution_count": 5,
   "id": "96eabcfd-49c0-41c5-b4c7-8dff4fd84380",
   "metadata": {},
   "outputs": [
    {
     "data": {
      "text/html": [
       "<div>\n",
       "<style scoped>\n",
       "    .dataframe tbody tr th:only-of-type {\n",
       "        vertical-align: middle;\n",
       "    }\n",
       "\n",
       "    .dataframe tbody tr th {\n",
       "        vertical-align: top;\n",
       "    }\n",
       "\n",
       "    .dataframe thead th {\n",
       "        text-align: right;\n",
       "    }\n",
       "</style>\n",
       "<table border=\"1\" class=\"dataframe\">\n",
       "  <thead>\n",
       "    <tr style=\"text-align: right;\">\n",
       "      <th></th>\n",
       "      <th>State</th>\n",
       "      <th>District</th>\n",
       "      <th>Market</th>\n",
       "      <th>Commodity</th>\n",
       "      <th>Variety</th>\n",
       "      <th>Grade</th>\n",
       "      <th>Arrival_Date</th>\n",
       "      <th>Min_x0020_Price</th>\n",
       "      <th>Max_x0020_Price</th>\n",
       "      <th>Modal_x0020_Price</th>\n",
       "    </tr>\n",
       "  </thead>\n",
       "  <tbody>\n",
       "    <tr>\n",
       "      <th>0</th>\n",
       "      <td>Andhra Pradesh</td>\n",
       "      <td>East Godavari</td>\n",
       "      <td>Jaggampet</td>\n",
       "      <td>Paddy(Dhan)(Common)</td>\n",
       "      <td>Common</td>\n",
       "      <td>FAQ</td>\n",
       "      <td>06/04/2025</td>\n",
       "      <td>2300.00</td>\n",
       "      <td>2320.00</td>\n",
       "      <td>2320.00</td>\n",
       "    </tr>\n",
       "    <tr>\n",
       "      <th>1</th>\n",
       "      <td>Assam</td>\n",
       "      <td>Barpeta</td>\n",
       "      <td>Barpeta Road</td>\n",
       "      <td>Bottle gourd</td>\n",
       "      <td>Bottle Gourd</td>\n",
       "      <td>Local</td>\n",
       "      <td>06/04/2025</td>\n",
       "      <td>1133.39</td>\n",
       "      <td>1200.06</td>\n",
       "      <td>1200.06</td>\n",
       "    </tr>\n",
       "    <tr>\n",
       "      <th>2</th>\n",
       "      <td>Assam</td>\n",
       "      <td>Barpeta</td>\n",
       "      <td>Barpeta Road</td>\n",
       "      <td>Cabbage</td>\n",
       "      <td>Cabbage</td>\n",
       "      <td>Local</td>\n",
       "      <td>06/04/2025</td>\n",
       "      <td>300.00</td>\n",
       "      <td>400.00</td>\n",
       "      <td>400.00</td>\n",
       "    </tr>\n",
       "    <tr>\n",
       "      <th>3</th>\n",
       "      <td>Assam</td>\n",
       "      <td>Cachar</td>\n",
       "      <td>Sonabarighat</td>\n",
       "      <td>Cabbage</td>\n",
       "      <td>Cabbage</td>\n",
       "      <td>Local</td>\n",
       "      <td>06/04/2025</td>\n",
       "      <td>1500.00</td>\n",
       "      <td>1600.00</td>\n",
       "      <td>1500.00</td>\n",
       "    </tr>\n",
       "    <tr>\n",
       "      <th>4</th>\n",
       "      <td>Assam</td>\n",
       "      <td>Golaghat</td>\n",
       "      <td>Golaghat</td>\n",
       "      <td>Tomato</td>\n",
       "      <td>Tomato</td>\n",
       "      <td>Local</td>\n",
       "      <td>06/04/2025</td>\n",
       "      <td>1000.00</td>\n",
       "      <td>1300.00</td>\n",
       "      <td>1200.00</td>\n",
       "    </tr>\n",
       "  </tbody>\n",
       "</table>\n",
       "</div>"
      ],
      "text/plain": [
       "            State       District        Market            Commodity  \\\n",
       "0  Andhra Pradesh  East Godavari     Jaggampet  Paddy(Dhan)(Common)   \n",
       "1           Assam        Barpeta  Barpeta Road         Bottle gourd   \n",
       "2           Assam        Barpeta  Barpeta Road              Cabbage   \n",
       "3           Assam         Cachar  Sonabarighat              Cabbage   \n",
       "4           Assam       Golaghat      Golaghat               Tomato   \n",
       "\n",
       "        Variety  Grade Arrival_Date  Min_x0020_Price  Max_x0020_Price  \\\n",
       "0        Common    FAQ   06/04/2025          2300.00          2320.00   \n",
       "1  Bottle Gourd  Local   06/04/2025          1133.39          1200.06   \n",
       "2       Cabbage  Local   06/04/2025           300.00           400.00   \n",
       "3       Cabbage  Local   06/04/2025          1500.00          1600.00   \n",
       "4        Tomato  Local   06/04/2025          1000.00          1300.00   \n",
       "\n",
       "   Modal_x0020_Price  \n",
       "0            2320.00  \n",
       "1            1200.06  \n",
       "2             400.00  \n",
       "3            1500.00  \n",
       "4            1200.00  "
      ]
     },
     "execution_count": 5,
     "metadata": {},
     "output_type": "execute_result"
    }
   ],
   "source": [
    "df.head()"
   ]
  },
  {
   "cell_type": "code",
   "execution_count": 6,
   "id": "a99b6299-42c9-4037-a0f5-df64da2bb10c",
   "metadata": {},
   "outputs": [
    {
     "name": "stdout",
     "output_type": "stream",
     "text": [
      "Index(['State', 'District', 'Market', 'Commodity', 'Variety', 'Grade',\n",
      "       'Arrival_Date', 'Min_x0020_Price', 'Max_x0020_Price',\n",
      "       'Modal_x0020_Price'],\n",
      "      dtype='object')\n"
     ]
    }
   ],
   "source": [
    "print(df.columns)"
   ]
  },
  {
   "cell_type": "code",
   "execution_count": 7,
   "id": "8aa9509b-13d9-4265-88da-68ad3dbd330d",
   "metadata": {},
   "outputs": [],
   "source": [
    "df['Arrival_Date'] = pd.to_datetime(df['Arrival_Date'], format='%d/%m/%Y')\n",
    "#Arrival_Date to datetime"
   ]
  },
  {
   "cell_type": "code",
   "execution_count": 8,
   "id": "a4a46b81-7445-497a-9192-f915fb15f716",
   "metadata": {},
   "outputs": [],
   "source": [
    "df.columns = df.columns.str.replace('_x0020_', '_').str.strip()\n",
    "#renaming columns "
   ]
  },
  {
   "cell_type": "code",
   "execution_count": 9,
   "id": "1f3be46c-9d4e-4e03-9d8e-4aa1f47c7ade",
   "metadata": {},
   "outputs": [
    {
     "data": {
      "text/plain": [
       "State           0\n",
       "District        0\n",
       "Market          0\n",
       "Commodity       0\n",
       "Variety         0\n",
       "Grade           0\n",
       "Arrival_Date    0\n",
       "Min_Price       0\n",
       "Max_Price       0\n",
       "Modal_Price     0\n",
       "dtype: int64"
      ]
     },
     "execution_count": 9,
     "metadata": {},
     "output_type": "execute_result"
    }
   ],
   "source": [
    "df.isnull().sum()\n",
    "#checks nulls"
   ]
  },
  {
   "cell_type": "code",
   "execution_count": 10,
   "id": "fb79db78-1a9c-44f6-b4e7-ae871f2873c5",
   "metadata": {},
   "outputs": [
    {
     "data": {
      "text/html": [
       "<div>\n",
       "<style scoped>\n",
       "    .dataframe tbody tr th:only-of-type {\n",
       "        vertical-align: middle;\n",
       "    }\n",
       "\n",
       "    .dataframe tbody tr th {\n",
       "        vertical-align: top;\n",
       "    }\n",
       "\n",
       "    .dataframe thead th {\n",
       "        text-align: right;\n",
       "    }\n",
       "</style>\n",
       "<table border=\"1\" class=\"dataframe\">\n",
       "  <thead>\n",
       "    <tr style=\"text-align: right;\">\n",
       "      <th></th>\n",
       "      <th>State</th>\n",
       "      <th>District</th>\n",
       "      <th>Market</th>\n",
       "      <th>Commodity</th>\n",
       "      <th>Variety</th>\n",
       "      <th>Grade</th>\n",
       "      <th>Arrival_Date</th>\n",
       "      <th>Min_Price</th>\n",
       "      <th>Max_Price</th>\n",
       "      <th>Modal_Price</th>\n",
       "    </tr>\n",
       "  </thead>\n",
       "  <tbody>\n",
       "    <tr>\n",
       "      <th>0</th>\n",
       "      <td>Andhra Pradesh</td>\n",
       "      <td>East Godavari</td>\n",
       "      <td>Jaggampet</td>\n",
       "      <td>Paddy(Dhan)(Common)</td>\n",
       "      <td>Common</td>\n",
       "      <td>FAQ</td>\n",
       "      <td>2025-04-06</td>\n",
       "      <td>2300.00</td>\n",
       "      <td>2320.00</td>\n",
       "      <td>2320.00</td>\n",
       "    </tr>\n",
       "    <tr>\n",
       "      <th>1</th>\n",
       "      <td>Assam</td>\n",
       "      <td>Barpeta</td>\n",
       "      <td>Barpeta Road</td>\n",
       "      <td>Bottle gourd</td>\n",
       "      <td>Bottle Gourd</td>\n",
       "      <td>Local</td>\n",
       "      <td>2025-04-06</td>\n",
       "      <td>1133.39</td>\n",
       "      <td>1200.06</td>\n",
       "      <td>1200.06</td>\n",
       "    </tr>\n",
       "    <tr>\n",
       "      <th>2</th>\n",
       "      <td>Assam</td>\n",
       "      <td>Barpeta</td>\n",
       "      <td>Barpeta Road</td>\n",
       "      <td>Cabbage</td>\n",
       "      <td>Cabbage</td>\n",
       "      <td>Local</td>\n",
       "      <td>2025-04-06</td>\n",
       "      <td>300.00</td>\n",
       "      <td>400.00</td>\n",
       "      <td>400.00</td>\n",
       "    </tr>\n",
       "    <tr>\n",
       "      <th>3</th>\n",
       "      <td>Assam</td>\n",
       "      <td>Cachar</td>\n",
       "      <td>Sonabarighat</td>\n",
       "      <td>Cabbage</td>\n",
       "      <td>Cabbage</td>\n",
       "      <td>Local</td>\n",
       "      <td>2025-04-06</td>\n",
       "      <td>1500.00</td>\n",
       "      <td>1600.00</td>\n",
       "      <td>1500.00</td>\n",
       "    </tr>\n",
       "    <tr>\n",
       "      <th>4</th>\n",
       "      <td>Assam</td>\n",
       "      <td>Golaghat</td>\n",
       "      <td>Golaghat</td>\n",
       "      <td>Tomato</td>\n",
       "      <td>Tomato</td>\n",
       "      <td>Local</td>\n",
       "      <td>2025-04-06</td>\n",
       "      <td>1000.00</td>\n",
       "      <td>1300.00</td>\n",
       "      <td>1200.00</td>\n",
       "    </tr>\n",
       "  </tbody>\n",
       "</table>\n",
       "</div>"
      ],
      "text/plain": [
       "            State       District        Market            Commodity  \\\n",
       "0  Andhra Pradesh  East Godavari     Jaggampet  Paddy(Dhan)(Common)   \n",
       "1           Assam        Barpeta  Barpeta Road         Bottle gourd   \n",
       "2           Assam        Barpeta  Barpeta Road              Cabbage   \n",
       "3           Assam         Cachar  Sonabarighat              Cabbage   \n",
       "4           Assam       Golaghat      Golaghat               Tomato   \n",
       "\n",
       "        Variety  Grade Arrival_Date  Min_Price  Max_Price  Modal_Price  \n",
       "0        Common    FAQ   2025-04-06    2300.00    2320.00      2320.00  \n",
       "1  Bottle Gourd  Local   2025-04-06    1133.39    1200.06      1200.06  \n",
       "2       Cabbage  Local   2025-04-06     300.00     400.00       400.00  \n",
       "3       Cabbage  Local   2025-04-06    1500.00    1600.00      1500.00  \n",
       "4        Tomato  Local   2025-04-06    1000.00    1300.00      1200.00  "
      ]
     },
     "execution_count": 10,
     "metadata": {},
     "output_type": "execute_result"
    }
   ],
   "source": [
    "df.head()"
   ]
  },
  {
   "cell_type": "markdown",
   "id": "f3ef7329-1e66-4ce8-9783-4fedbbed3d3c",
   "metadata": {},
   "source": [
    "**3.Visualising Data**"
   ]
  },
  {
   "cell_type": "code",
   "execution_count": 11,
   "id": "988bab55-27e6-4060-98d2-2ec82bc9d8ba",
   "metadata": {},
   "outputs": [
    {
     "data": {
      "image/png": "[encoded data removed]",
      "text/plain": [
       "<Figure size 800x400 with 1 Axes>"
      ]
     },
     "metadata": {},
     "output_type": "display_data"
    }
   ],
   "source": [
    "import matplotlib.pyplot as plt\n",
    "import seaborn as sns\n",
    "plt.figure(figsize=(8, 4))\n",
    "sns.histplot(df['Modal_Price'], kde=True)\n",
    "plt.title('Distribution of Modal Prices')\n",
    "plt.show()"
   ]
  },
  {
   "cell_type": "code",
   "execution_count": 12,
   "id": "ab8e5fd6-739a-45be-b952-0bea6033cb6c",
   "metadata": {},
   "outputs": [],
   "source": [
    "data=df.drop(['State','District','Market','Commodity','Variety','Grade','Arrival_Date'],axis=1)"
   ]
  },
  {
   "cell_type": "code",
   "execution_count": 13,
   "id": "b40e0c2f-4c36-425f-812d-d6c2d4187c86",
   "metadata": {},
   "outputs": [
    {
     "data": {
      "text/html": [
       "<div>\n",
       "<style scoped>\n",
       "    .dataframe tbody tr th:only-of-type {\n",
       "        vertical-align: middle;\n",
       "    }\n",
       "\n",
       "    .dataframe tbody tr th {\n",
       "        vertical-align: top;\n",
       "    }\n",
       "\n",
       "    .dataframe thead th {\n",
       "        text-align: right;\n",
       "    }\n",
       "</style>\n",
       "<table border=\"1\" class=\"dataframe\">\n",
       "  <thead>\n",
       "    <tr style=\"text-align: right;\">\n",
       "      <th></th>\n",
       "      <th>Min_Price</th>\n",
       "      <th>Max_Price</th>\n",
       "      <th>Modal_Price</th>\n",
       "    </tr>\n",
       "  </thead>\n",
       "  <tbody>\n",
       "    <tr>\n",
       "      <th>Min_Price</th>\n",
       "      <td>1.912518e+07</td>\n",
       "      <td>2.067073e+07</td>\n",
       "      <td>2.066375e+07</td>\n",
       "    </tr>\n",
       "    <tr>\n",
       "      <th>Max_Price</th>\n",
       "      <td>2.067073e+07</td>\n",
       "      <td>2.335594e+07</td>\n",
       "      <td>2.318596e+07</td>\n",
       "    </tr>\n",
       "    <tr>\n",
       "      <th>Modal_Price</th>\n",
       "      <td>2.066375e+07</td>\n",
       "      <td>2.318596e+07</td>\n",
       "      <td>2.315018e+07</td>\n",
       "    </tr>\n",
       "  </tbody>\n",
       "</table>\n",
       "</div>"
      ],
      "text/plain": [
       "                Min_Price     Max_Price   Modal_Price\n",
       "Min_Price    1.912518e+07  2.067073e+07  2.066375e+07\n",
       "Max_Price    2.067073e+07  2.335594e+07  2.318596e+07\n",
       "Modal_Price  2.066375e+07  2.318596e+07  2.315018e+07"
      ]
     },
     "execution_count": 13,
     "metadata": {},
     "output_type": "execute_result"
    }
   ],
   "source": [
    "data.cov()"
   ]
  },
  {
   "cell_type": "code",
   "execution_count": 14,
   "id": "04bdb8b8-1226-4e7d-8406-edbff998f4ec",
   "metadata": {},
   "outputs": [
    {
     "data": {
      "text/html": [
       "<div>\n",
       "<style scoped>\n",
       "    .dataframe tbody tr th:only-of-type {\n",
       "        vertical-align: middle;\n",
       "    }\n",
       "\n",
       "    .dataframe tbody tr th {\n",
       "        vertical-align: top;\n",
       "    }\n",
       "\n",
       "    .dataframe thead th {\n",
       "        text-align: right;\n",
       "    }\n",
       "</style>\n",
       "<table border=\"1\" class=\"dataframe\">\n",
       "  <thead>\n",
       "    <tr style=\"text-align: right;\">\n",
       "      <th></th>\n",
       "      <th>Min_Price</th>\n",
       "      <th>Max_Price</th>\n",
       "      <th>Modal_Price</th>\n",
       "    </tr>\n",
       "  </thead>\n",
       "  <tbody>\n",
       "    <tr>\n",
       "      <th>Min_Price</th>\n",
       "      <td>1.000000</td>\n",
       "      <td>0.978035</td>\n",
       "      <td>0.982040</td>\n",
       "    </tr>\n",
       "    <tr>\n",
       "      <th>Max_Price</th>\n",
       "      <td>0.978035</td>\n",
       "      <td>1.000000</td>\n",
       "      <td>0.997124</td>\n",
       "    </tr>\n",
       "    <tr>\n",
       "      <th>Modal_Price</th>\n",
       "      <td>0.982040</td>\n",
       "      <td>0.997124</td>\n",
       "      <td>1.000000</td>\n",
       "    </tr>\n",
       "  </tbody>\n",
       "</table>\n",
       "</div>"
      ],
      "text/plain": [
       "             Min_Price  Max_Price  Modal_Price\n",
       "Min_Price     1.000000   0.978035     0.982040\n",
       "Max_Price     0.978035   1.000000     0.997124\n",
       "Modal_Price   0.982040   0.997124     1.000000"
      ]
     },
     "execution_count": 14,
     "metadata": {},
     "output_type": "execute_result"
    }
   ],
   "source": [
    "data.corr()"
   ]
  },
  {
   "cell_type": "code",
   "execution_count": 15,
   "id": "1cc60cb9-2728-474b-a21c-0daece8af548",
   "metadata": {},
   "outputs": [
    {
     "data": {
      "text/plain": [
       "<Axes: >"
      ]
     },
     "execution_count": 15,
     "metadata": {},
     "output_type": "execute_result"
    },
    {
     "data": {
      "image/png": "[encoded data removed]",
      "text/plain": [
       "<Figure size 640x480 with 2 Axes>"
      ]
     },
     "metadata": {},
     "output_type": "display_data"
    }
   ],
   "source": [
    "sns.heatmap(data.corr(),annot=True)"
   ]
  },
  {
   "cell_type": "code",
   "execution_count": 16,
   "id": "a6896f84-ddb5-43cc-8f96-a3e827840ab0",
   "metadata": {},
   "outputs": [
    {
     "data": {
      "text/plain": [
       "<Axes: >"
      ]
     },
     "execution_count": 16,
     "metadata": {},
     "output_type": "execute_result"
    },
    {
     "data": {
      "image/png": "[encoded data removed]",
      "text/plain": [
       "<Figure size 640x480 with 1 Axes>"
      ]
     },
     "metadata": {},
     "output_type": "display_data"
    }
   ],
   "source": [
    "sns.boxplot(df)"
   ]
  },
  {
   "cell_type": "code",
   "execution_count": 17,
   "id": "0f2ec8c0-9a2e-49d9-aaa4-98c28844c5d7",
   "metadata": {},
   "outputs": [
    {
     "name": "stdout",
     "output_type": "stream",
     "text": [
      "0       2320.00\n",
      "1       1200.06\n",
      "2        400.00\n",
      "3       1500.00\n",
      "4       1200.00\n",
      "         ...   \n",
      "7025    1400.00\n",
      "7026    3550.00\n",
      "7027    1050.00\n",
      "7028    4400.00\n",
      "7029    3500.00\n",
      "Name: Modal_Price, Length: 7030, dtype: float64\n"
     ]
    }
   ],
   "source": [
    "print(df.Modal_Price)"
   ]
  },
  {
   "cell_type": "code",
   "execution_count": 24,
   "id": "53303818-aad2-44b9-9505-8b0687faea35",
   "metadata": {},
   "outputs": [
    {
     "ename": "KeyError",
     "evalue": "'state'",
     "output_type": "error",
     "traceback": [
      "\u001b[1;31m---------------------------------------------------------------------------\u001b[0m",
      "\u001b[1;31mKeyError\u001b[0m                                  Traceback (most recent call last)",
      "Cell \u001b[1;32mIn[24], line 2\u001b[0m\n\u001b[0;32m      1\u001b[0m plt\u001b[38;5;241m.\u001b[39mfigure(figsize\u001b[38;5;241m=\u001b[39m(\u001b[38;5;241m10\u001b[39m, \u001b[38;5;241m4\u001b[39m))\n\u001b[1;32m----> 2\u001b[0m \u001b[43mdf\u001b[49m\u001b[38;5;241;43m.\u001b[39;49m\u001b[43mgroupby\u001b[49m\u001b[43m(\u001b[49m\u001b[38;5;124;43m'\u001b[39;49m\u001b[38;5;124;43mstate\u001b[39;49m\u001b[38;5;124;43m'\u001b[39;49m\u001b[43m)\u001b[49m[\u001b[38;5;124m'\u001b[39m\u001b[38;5;124mModal_Price\u001b[39m\u001b[38;5;124m'\u001b[39m]\u001b[38;5;241m.\u001b[39mmean()\u001b[38;5;241m.\u001b[39mplot()\n\u001b[0;32m      3\u001b[0m plt\u001b[38;5;241m.\u001b[39mtitle(\u001b[38;5;124m'\u001b[39m\u001b[38;5;124mAverage Modal Price Over Time\u001b[39m\u001b[38;5;124m'\u001b[39m)\n\u001b[0;32m      4\u001b[0m plt\u001b[38;5;241m.\u001b[39mylabel(\u001b[38;5;124m'\u001b[39m\u001b[38;5;124mPrice\u001b[39m\u001b[38;5;124m'\u001b[39m)\n",
      "File \u001b[1;32mC:\\env1\\python\\Lib\\site-packages\\pandas\\core\\frame.py:9183\u001b[0m, in \u001b[0;36mDataFrame.groupby\u001b[1;34m(self, by, axis, level, as_index, sort, group_keys, observed, dropna)\u001b[0m\n\u001b[0;32m   9180\u001b[0m \u001b[38;5;28;01mif\u001b[39;00m level \u001b[38;5;129;01mis\u001b[39;00m \u001b[38;5;28;01mNone\u001b[39;00m \u001b[38;5;129;01mand\u001b[39;00m by \u001b[38;5;129;01mis\u001b[39;00m \u001b[38;5;28;01mNone\u001b[39;00m:\n\u001b[0;32m   9181\u001b[0m     \u001b[38;5;28;01mraise\u001b[39;00m \u001b[38;5;167;01mTypeError\u001b[39;00m(\u001b[38;5;124m\"\u001b[39m\u001b[38;5;124mYou have to supply one of \u001b[39m\u001b[38;5;124m'\u001b[39m\u001b[38;5;124mby\u001b[39m\u001b[38;5;124m'\u001b[39m\u001b[38;5;124m and \u001b[39m\u001b[38;5;124m'\u001b[39m\u001b[38;5;124mlevel\u001b[39m\u001b[38;5;124m'\u001b[39m\u001b[38;5;124m\"\u001b[39m)\n\u001b[1;32m-> 9183\u001b[0m \u001b[38;5;28;01mreturn\u001b[39;00m \u001b[43mDataFrameGroupBy\u001b[49m\u001b[43m(\u001b[49m\n\u001b[0;32m   9184\u001b[0m \u001b[43m    \u001b[49m\u001b[43mobj\u001b[49m\u001b[38;5;241;43m=\u001b[39;49m\u001b[38;5;28;43mself\u001b[39;49m\u001b[43m,\u001b[49m\n\u001b[0;32m   9185\u001b[0m \u001b[43m    \u001b[49m\u001b[43mkeys\u001b[49m\u001b[38;5;241;43m=\u001b[39;49m\u001b[43mby\u001b[49m\u001b[43m,\u001b[49m\n\u001b[0;32m   9186\u001b[0m \u001b[43m    \u001b[49m\u001b[43maxis\u001b[49m\u001b[38;5;241;43m=\u001b[39;49m\u001b[43maxis\u001b[49m\u001b[43m,\u001b[49m\n\u001b[0;32m   9187\u001b[0m \u001b[43m    \u001b[49m\u001b[43mlevel\u001b[49m\u001b[38;5;241;43m=\u001b[39;49m\u001b[43mlevel\u001b[49m\u001b[43m,\u001b[49m\n\u001b[0;32m   9188\u001b[0m \u001b[43m    \u001b[49m\u001b[43mas_index\u001b[49m\u001b[38;5;241;43m=\u001b[39;49m\u001b[43mas_index\u001b[49m\u001b[43m,\u001b[49m\n\u001b[0;32m   9189\u001b[0m \u001b[43m    \u001b[49m\u001b[43msort\u001b[49m\u001b[38;5;241;43m=\u001b[39;49m\u001b[43msort\u001b[49m\u001b[43m,\u001b[49m\n\u001b[0;32m   9190\u001b[0m \u001b[43m    \u001b[49m\u001b[43mgroup_keys\u001b[49m\u001b[38;5;241;43m=\u001b[39;49m\u001b[43mgroup_keys\u001b[49m\u001b[43m,\u001b[49m\n\u001b[0;32m   9191\u001b[0m \u001b[43m    \u001b[49m\u001b[43mobserved\u001b[49m\u001b[38;5;241;43m=\u001b[39;49m\u001b[43mobserved\u001b[49m\u001b[43m,\u001b[49m\n\u001b[0;32m   9192\u001b[0m \u001b[43m    \u001b[49m\u001b[43mdropna\u001b[49m\u001b[38;5;241;43m=\u001b[39;49m\u001b[43mdropna\u001b[49m\u001b[43m,\u001b[49m\n\u001b[0;32m   9193\u001b[0m \u001b[43m\u001b[49m\u001b[43m)\u001b[49m\n",
      "File \u001b[1;32mC:\\env1\\python\\Lib\\site-packages\\pandas\\core\\groupby\\groupby.py:1329\u001b[0m, in \u001b[0;36mGroupBy.__init__\u001b[1;34m(self, obj, keys, axis, level, grouper, exclusions, selection, as_index, sort, group_keys, observed, dropna)\u001b[0m\n\u001b[0;32m   1326\u001b[0m \u001b[38;5;28mself\u001b[39m\u001b[38;5;241m.\u001b[39mdropna \u001b[38;5;241m=\u001b[39m dropna\n\u001b[0;32m   1328\u001b[0m \u001b[38;5;28;01mif\u001b[39;00m grouper \u001b[38;5;129;01mis\u001b[39;00m \u001b[38;5;28;01mNone\u001b[39;00m:\n\u001b[1;32m-> 1329\u001b[0m     grouper, exclusions, obj \u001b[38;5;241m=\u001b[39m \u001b[43mget_grouper\u001b[49m\u001b[43m(\u001b[49m\n\u001b[0;32m   1330\u001b[0m \u001b[43m        \u001b[49m\u001b[43mobj\u001b[49m\u001b[43m,\u001b[49m\n\u001b[0;32m   1331\u001b[0m \u001b[43m        \u001b[49m\u001b[43mkeys\u001b[49m\u001b[43m,\u001b[49m\n\u001b[0;32m   1332\u001b[0m \u001b[43m        \u001b[49m\u001b[43maxis\u001b[49m\u001b[38;5;241;43m=\u001b[39;49m\u001b[43maxis\u001b[49m\u001b[43m,\u001b[49m\n\u001b[0;32m   1333\u001b[0m \u001b[43m        \u001b[49m\u001b[43mlevel\u001b[49m\u001b[38;5;241;43m=\u001b[39;49m\u001b[43mlevel\u001b[49m\u001b[43m,\u001b[49m\n\u001b[0;32m   1334\u001b[0m \u001b[43m        \u001b[49m\u001b[43msort\u001b[49m\u001b[38;5;241;43m=\u001b[39;49m\u001b[43msort\u001b[49m\u001b[43m,\u001b[49m\n\u001b[0;32m   1335\u001b[0m \u001b[43m        \u001b[49m\u001b[43mobserved\u001b[49m\u001b[38;5;241;43m=\u001b[39;49m\u001b[38;5;28;43;01mFalse\u001b[39;49;00m\u001b[43m \u001b[49m\u001b[38;5;28;43;01mif\u001b[39;49;00m\u001b[43m \u001b[49m\u001b[43mobserved\u001b[49m\u001b[43m \u001b[49m\u001b[38;5;129;43;01mis\u001b[39;49;00m\u001b[43m \u001b[49m\u001b[43mlib\u001b[49m\u001b[38;5;241;43m.\u001b[39;49m\u001b[43mno_default\u001b[49m\u001b[43m \u001b[49m\u001b[38;5;28;43;01melse\u001b[39;49;00m\u001b[43m \u001b[49m\u001b[43mobserved\u001b[49m\u001b[43m,\u001b[49m\n\u001b[0;32m   1336\u001b[0m \u001b[43m        \u001b[49m\u001b[43mdropna\u001b[49m\u001b[38;5;241;43m=\u001b[39;49m\u001b[38;5;28;43mself\u001b[39;49m\u001b[38;5;241;43m.\u001b[39;49m\u001b[43mdropna\u001b[49m\u001b[43m,\u001b[49m\n\u001b[0;32m   1337\u001b[0m \u001b[43m    \u001b[49m\u001b[43m)\u001b[49m\n\u001b[0;32m   1339\u001b[0m \u001b[38;5;28;01mif\u001b[39;00m observed \u001b[38;5;129;01mis\u001b[39;00m lib\u001b[38;5;241m.\u001b[39mno_default:\n\u001b[0;32m   1340\u001b[0m     \u001b[38;5;28;01mif\u001b[39;00m \u001b[38;5;28many\u001b[39m(ping\u001b[38;5;241m.\u001b[39m_passed_categorical \u001b[38;5;28;01mfor\u001b[39;00m ping \u001b[38;5;129;01min\u001b[39;00m grouper\u001b[38;5;241m.\u001b[39mgroupings):\n",
      "File \u001b[1;32mC:\\env1\\python\\Lib\\site-packages\\pandas\\core\\groupby\\grouper.py:1043\u001b[0m, in \u001b[0;36mget_grouper\u001b[1;34m(obj, key, axis, level, sort, observed, validate, dropna)\u001b[0m\n\u001b[0;32m   1041\u001b[0m         in_axis, level, gpr \u001b[38;5;241m=\u001b[39m \u001b[38;5;28;01mFalse\u001b[39;00m, gpr, \u001b[38;5;28;01mNone\u001b[39;00m\n\u001b[0;32m   1042\u001b[0m     \u001b[38;5;28;01melse\u001b[39;00m:\n\u001b[1;32m-> 1043\u001b[0m         \u001b[38;5;28;01mraise\u001b[39;00m \u001b[38;5;167;01mKeyError\u001b[39;00m(gpr)\n\u001b[0;32m   1044\u001b[0m \u001b[38;5;28;01melif\u001b[39;00m \u001b[38;5;28misinstance\u001b[39m(gpr, Grouper) \u001b[38;5;129;01mand\u001b[39;00m gpr\u001b[38;5;241m.\u001b[39mkey \u001b[38;5;129;01mis\u001b[39;00m \u001b[38;5;129;01mnot\u001b[39;00m \u001b[38;5;28;01mNone\u001b[39;00m:\n\u001b[0;32m   1045\u001b[0m     \u001b[38;5;66;03m# Add key to exclusions\u001b[39;00m\n\u001b[0;32m   1046\u001b[0m     exclusions\u001b[38;5;241m.\u001b[39madd(gpr\u001b[38;5;241m.\u001b[39mkey)\n",
      "\u001b[1;31mKeyError\u001b[0m: 'state'"
     ]
    },
    {
     "data": {
      "text/plain": [
       "<Figure size 1000x400 with 0 Axes>"
      ]
     },
     "metadata": {},
     "output_type": "display_data"
    }
   ],
   "source": [
    "plt.figure(figsize=(10, 4))\n",
    "df.groupby('state')['Modal_Price'].mean().plot()\n",
    "plt.title('Average Modal Price Over Time')\n",
    "plt.ylabel('Price')\n",
    "plt.show()"
   ]
  },
  {
   "cell_type": "markdown",
   "id": "1a343e00-720a-4026-bbfb-17193b32c981",
   "metadata": {},
   "source": [
    "**4.EDA**"
   ]
  },
  {
   "cell_type": "code",
   "execution_count": 19,
   "id": "c0e530c4-dc15-4ef6-a2cd-5fd0080e7090",
   "metadata": {},
   "outputs": [
    {
     "data": {
      "text/html": [
       "<div>\n",
       "<style scoped>\n",
       "    .dataframe tbody tr th:only-of-type {\n",
       "        vertical-align: middle;\n",
       "    }\n",
       "\n",
       "    .dataframe tbody tr th {\n",
       "        vertical-align: top;\n",
       "    }\n",
       "\n",
       "    .dataframe thead th {\n",
       "        text-align: right;\n",
       "    }\n",
       "</style>\n",
       "<table border=\"1\" class=\"dataframe\">\n",
       "  <thead>\n",
       "    <tr style=\"text-align: right;\">\n",
       "      <th></th>\n",
       "      <th>Arrival_Date</th>\n",
       "      <th>Min_Price</th>\n",
       "      <th>Max_Price</th>\n",
       "      <th>Modal_Price</th>\n",
       "    </tr>\n",
       "  </thead>\n",
       "  <tbody>\n",
       "    <tr>\n",
       "      <th>count</th>\n",
       "      <td>7030</td>\n",
       "      <td>7030.000000</td>\n",
       "      <td>7030.000000</td>\n",
       "      <td>7030.000000</td>\n",
       "    </tr>\n",
       "    <tr>\n",
       "      <th>mean</th>\n",
       "      <td>2025-04-06 00:00:00.000000256</td>\n",
       "      <td>3957.841385</td>\n",
       "      <td>4502.544724</td>\n",
       "      <td>4448.361723</td>\n",
       "    </tr>\n",
       "    <tr>\n",
       "      <th>min</th>\n",
       "      <td>2025-04-06 00:00:00</td>\n",
       "      <td>1.000000</td>\n",
       "      <td>4.000000</td>\n",
       "      <td>3.000000</td>\n",
       "    </tr>\n",
       "    <tr>\n",
       "      <th>25%</th>\n",
       "      <td>2025-04-06 00:00:00</td>\n",
       "      <td>2000.000000</td>\n",
       "      <td>2400.000000</td>\n",
       "      <td>2400.000000</td>\n",
       "    </tr>\n",
       "    <tr>\n",
       "      <th>50%</th>\n",
       "      <td>2025-04-06 00:00:00</td>\n",
       "      <td>3000.000000</td>\n",
       "      <td>3500.000000</td>\n",
       "      <td>3500.000000</td>\n",
       "    </tr>\n",
       "    <tr>\n",
       "      <th>75%</th>\n",
       "      <td>2025-04-06 00:00:00</td>\n",
       "      <td>4500.000000</td>\n",
       "      <td>5000.000000</td>\n",
       "      <td>5000.000000</td>\n",
       "    </tr>\n",
       "    <tr>\n",
       "      <th>max</th>\n",
       "      <td>2025-04-06 00:00:00</td>\n",
       "      <td>70000.000000</td>\n",
       "      <td>80000.000000</td>\n",
       "      <td>80000.000000</td>\n",
       "    </tr>\n",
       "    <tr>\n",
       "      <th>std</th>\n",
       "      <td>NaN</td>\n",
       "      <td>4373.234105</td>\n",
       "      <td>4832.798488</td>\n",
       "      <td>4811.463553</td>\n",
       "    </tr>\n",
       "  </tbody>\n",
       "</table>\n",
       "</div>"
      ],
      "text/plain": [
       "                        Arrival_Date     Min_Price     Max_Price   Modal_Price\n",
       "count                           7030   7030.000000   7030.000000   7030.000000\n",
       "mean   2025-04-06 00:00:00.000000256   3957.841385   4502.544724   4448.361723\n",
       "min              2025-04-06 00:00:00      1.000000      4.000000      3.000000\n",
       "25%              2025-04-06 00:00:00   2000.000000   2400.000000   2400.000000\n",
       "50%              2025-04-06 00:00:00   3000.000000   3500.000000   3500.000000\n",
       "75%              2025-04-06 00:00:00   4500.000000   5000.000000   5000.000000\n",
       "max              2025-04-06 00:00:00  70000.000000  80000.000000  80000.000000\n",
       "std                              NaN   4373.234105   4832.798488   4811.463553"
      ]
     },
     "execution_count": 19,
     "metadata": {},
     "output_type": "execute_result"
    }
   ],
   "source": [
    "df.describe()"
   ]
  },
  {
   "cell_type": "code",
   "execution_count": 20,
   "id": "945157b4-bdf4-4050-a6f6-f9c801689448",
   "metadata": {},
   "outputs": [
    {
     "data": {
      "text/plain": [
       "Commodity\n",
       "Kakada                68000.000000\n",
       "Jasmine               57500.000000\n",
       "Tube Flower           55625.000000\n",
       "Fish                  25000.000000\n",
       "Cummin Seed(Jeera)    20000.000000\n",
       "Marigold(Calcutta)    17880.952381\n",
       "Pomegranate           17737.121212\n",
       "Rose(Local)           16347.826087\n",
       "Chili Red             16125.000000\n",
       "Mustard Oil           14915.000000\n",
       "Name: Modal_Price, dtype: float64"
      ]
     },
     "execution_count": 20,
     "metadata": {},
     "output_type": "execute_result"
    }
   ],
   "source": [
    "df.groupby('Commodity')['Modal_Price'].mean().sort_values(ascending=False).head(10)"
   ]
  },
  {
   "cell_type": "markdown",
   "id": "8e650848-d763-4792-9dd8-0df8301d40c4",
   "metadata": {},
   "source": [
    "**5.Saving Cleaned Data**"
   ]
  },
  {
   "cell_type": "code",
   "execution_count": 21,
   "id": "141b583e-b6ee-4d48-a8f4-b28443aa3596",
   "metadata": {},
   "outputs": [],
   "source": [
    "df.to_csv('mandi_cleaned.csv', index=False)"
   ]
  },
  {
   "cell_type": "code",
   "execution_count": null,
   "id": "6e79fdb2-f2c2-4e02-93d5-07ab5bf43836",
   "metadata": {},
   "outputs": [],
   "source": []
  }
 ],
 "metadata": {
  "kernelspec": {
   "display_name": "Python 3 (ipykernel)",
   "language": "python",
   "name": "python3"
  },
  "language_info": {
   "codemirror_mode": {
    "name": "ipython",
    "version": 3
   },
   "file_extension": ".py",
   "mimetype": "text/x-python",
   "name": "python",
   "nbconvert_exporter": "python",
   "pygments_lexer": "ipython3",
   "version": "3.13.2"
  }
 },
 "nbformat": 4,
 "nbformat_minor": 5
}
